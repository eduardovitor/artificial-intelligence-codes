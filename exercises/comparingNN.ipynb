{
  "nbformat": 4,
  "nbformat_minor": 0,
  "metadata": {
    "colab": {
      "name": "ComparingNN.ipynb",
      "provenance": []
    },
    "kernelspec": {
      "name": "python3",
      "display_name": "Python 3"
    },
    "language_info": {
      "name": "python"
    }
  },
  "cells": [
    {
      "cell_type": "markdown",
      "source": [
        "Comparação de desempenho de dois tipos de rede neural (CNN e RNN) para classificação de dígitos escritos a mão do dataset MNIST\n",
        "\n"
      ],
      "metadata": {
        "id": "rxBV-WuFYQGl"
      }
    },
    {
      "cell_type": "code",
      "execution_count": null,
      "metadata": {
        "id": "mWqhRLV2PFVv"
      },
      "outputs": [],
      "source": [
        "import numpy as np\n",
        "import matplotlib.pyplot as plt\n",
        "%matplotlib inline\n",
        "import tensorflow.keras\n",
        "import tensorflow.keras.models as models\n",
        "from tensorflow.keras.utils import to_categorical\n",
        "import tensorflow.keras.layers as layers\n",
        "from tensorflow.keras.datasets import mnist"
      ]
    },
    {
      "cell_type": "code",
      "source": [
        "# Coletando os dados do dataset MNIST\n",
        "(x_train, y_train), (x_test, y_test) = mnist.load_data()\n",
        "print(x_train.shape, y_train.shape)\n",
        "print(x_test.shape, y_test.shape)"
      ],
      "metadata": {
        "colab": {
          "base_uri": "https://localhost:8080/"
        },
        "id": "3H-61aTXH24K",
        "outputId": "3a45783d-bb25-4d1a-fc0d-a723ea227e38"
      },
      "execution_count": null,
      "outputs": [
        {
          "output_type": "stream",
          "name": "stdout",
          "text": [
            "(60000, 28, 28) (60000,)\n",
            "(10000, 28, 28) (10000,)\n"
          ]
        }
      ]
    },
    {
      "cell_type": "code",
      "source": [
        "# Vizualizando as labels\n",
        "num_classes=10\n",
        "f, ax = plt.subplots(1, num_classes, figsize=(20,20))\n",
        "\n",
        "for i in range(0,num_classes):\n",
        "  sample = x_train[y_train == i][0]\n",
        "  ax[i].imshow(sample,cmap='gray')\n",
        "  ax[i].set_title('Label: {}'.format(i), fontsize=16)"
      ],
      "metadata": {
        "id": "QDCO-cOQIZxa",
        "colab": {
          "base_uri": "https://localhost:8080/",
          "height": 160
        },
        "outputId": "e05517d9-3e53-4b57-883b-913a2dec386f"
      },
      "execution_count": null,
      "outputs": [
        {
          "output_type": "display_data",
          "data": {
            "text/plain": [
              "<Figure size 1440x1440 with 10 Axes>"
            ],
            "image/png": "[encoded data removed]"
          },
          "metadata": {
            "needs_background": "light"
          }
        }
      ]
    },
    {
      "cell_type": "code",
      "source": [
        "# Normalizando os dados das features\n",
        "x_train = x_train / 255.0\n",
        "x_test = x_test / 255.0"
      ],
      "metadata": {
        "id": "tPaf2240OkAO"
      },
      "execution_count": null,
      "outputs": []
    },
    {
      "cell_type": "code",
      "source": [
        "# Mudando o formato dos dados para facilitar o processamento\n",
        "x_train = np.expand_dims(x_train, axis=3)\n",
        "x_test = np.expand_dims(x_test, axis=3)"
      ],
      "metadata": {
        "id": "XmsyxGJuO9yW"
      },
      "execution_count": null,
      "outputs": []
    },
    {
      "cell_type": "markdown",
      "source": [
        "Testes com uma CNN (Convolutional Neural Network)"
      ],
      "metadata": {
        "id": "WjbbYp9oQej-"
      }
    },
    {
      "cell_type": "code",
      "source": [
        "# Construindo o modelo\n",
        "\n",
        "num_filters = 8\n",
        "filter_size = 3\n",
        "pool_size = 2\n",
        "\n",
        "model = models.Sequential([\n",
        "  layers.Conv2D(num_filters, filter_size, input_shape=(28, 28, 1)),\n",
        "  layers.MaxPooling2D(pool_size=pool_size),\n",
        "  layers.Flatten(),\n",
        "  layers.Dense(10, activation='softmax'),\n",
        "])"
      ],
      "metadata": {
        "id": "V3ojWqi-QTGW"
      },
      "execution_count": null,
      "outputs": []
    },
    {
      "cell_type": "code",
      "source": [
        "# Resumo do modelo\n",
        "model.summary()"
      ],
      "metadata": {
        "colab": {
          "base_uri": "https://localhost:8080/"
        },
        "id": "qvk5J41PR1zK",
        "outputId": "53a64cd4-b0c2-418a-a163-55780d2118f1"
      },
      "execution_count": null,
      "outputs": [
        {
          "output_type": "stream",
          "name": "stdout",
          "text": [
            "Model: \"sequential_2\"\n",
            "_________________________________________________________________\n",
            " Layer (type)                Output Shape              Param #   \n",
            "=================================================================\n",
            " conv2d (Conv2D)             (None, 26, 26, 8)         80        \n",
            "                                                                 \n",
            " max_pooling2d (MaxPooling2D  (None, 13, 13, 8)        0         \n",
            " )                                                               \n",
            "                                                                 \n",
            " flatten_2 (Flatten)         (None, 1352)              0         \n",
            "                                                                 \n",
            " dense_4 (Dense)             (None, 10)                13530     \n",
            "                                                                 \n",
            "=================================================================\n",
            "Total params: 13,610\n",
            "Trainable params: 13,610\n",
            "Non-trainable params: 0\n",
            "_________________________________________________________________\n"
          ]
        }
      ]
    },
    {
      "cell_type": "code",
      "source": [
        "# Compilando o modelo\n",
        "model.compile(\n",
        "  'adam',\n",
        "  loss='categorical_crossentropy',\n",
        "  metrics=['accuracy'],\n",
        ")"
      ],
      "metadata": {
        "id": "jUDHReDFSKKa"
      },
      "execution_count": null,
      "outputs": []
    },
    {
      "cell_type": "code",
      "source": [
        "# Treinando o modelo\n",
        "epochs=7\n",
        "model.fit(\n",
        "  x_train,\n",
        "  to_categorical(y_train),\n",
        "  epochs=epochs,\n",
        "  validation_data=(x_test, to_categorical(y_test)),\n",
        ")"
      ],
      "metadata": {
        "colab": {
          "base_uri": "https://localhost:8080/"
        },
        "id": "J4-g-fBPSQT1",
        "outputId": "07934dea-1e77-4252-8332-8cbf1429197e"
      },
      "execution_count": null,
      "outputs": [
        {
          "output_type": "stream",
          "name": "stdout",
          "text": [
            "Epoch 1/7\n",
            "1875/1875 [==============================] - 20s 10ms/step - loss: 0.3416 - accuracy: 0.9038 - val_loss: 0.2057 - val_accuracy: 0.9415\n",
            "Epoch 2/7\n",
            "1875/1875 [==============================] - 20s 11ms/step - loss: 0.1805 - accuracy: 0.9477 - val_loss: 0.1431 - val_accuracy: 0.9573\n",
            "Epoch 3/7\n",
            "1875/1875 [==============================] - 18s 10ms/step - loss: 0.1302 - accuracy: 0.9626 - val_loss: 0.1132 - val_accuracy: 0.9672\n",
            "Epoch 4/7\n",
            "1875/1875 [==============================] - 19s 10ms/step - loss: 0.1036 - accuracy: 0.9702 - val_loss: 0.1032 - val_accuracy: 0.9681\n",
            "Epoch 5/7\n",
            "1875/1875 [==============================] - 19s 10ms/step - loss: 0.0887 - accuracy: 0.9744 - val_loss: 0.0915 - val_accuracy: 0.9717\n",
            "Epoch 6/7\n",
            "1875/1875 [==============================] - 19s 10ms/step - loss: 0.0784 - accuracy: 0.9768 - val_loss: 0.0872 - val_accuracy: 0.9746\n",
            "Epoch 7/7\n",
            "1875/1875 [==============================] - 18s 10ms/step - loss: 0.0705 - accuracy: 0.9796 - val_loss: 0.0847 - val_accuracy: 0.9735\n"
          ]
        },
        {
          "output_type": "execute_result",
          "data": {
            "text/plain": [
              "<keras.callbacks.History at 0x7f5fa69ed310>"
            ]
          },
          "metadata": {},
          "execution_count": 30
        }
      ]
    },
    {
      "cell_type": "code",
      "source": [
        "# Predição das cinco primeiras imagens de teste\n",
        "predictions = model.predict(x_test[:5])\n",
        "\n",
        "# Imprime as predições do nosso modelo\n",
        "print(np.argmax(predictions, axis=1))\n",
        "\n",
        "# Imprime os verdadeiros valores das labels\n",
        "print(y_test[:5]) # [7, 2, 1, 0, 4]"
      ],
      "metadata": {
        "colab": {
          "base_uri": "https://localhost:8080/"
        },
        "id": "jgrJTP4NUwNo",
        "outputId": "fd9c1397-a73c-4338-87fa-328bc5f7e634"
      },
      "execution_count": null,
      "outputs": [
        {
          "output_type": "stream",
          "name": "stdout",
          "text": [
            "[7 2 1 0 4]\n",
            "[7 2 1 0 4]\n"
          ]
        }
      ]
    },
    {
      "cell_type": "markdown",
      "source": [
        "Testes com uma RNN (Recurrent Neural Network)"
      ],
      "metadata": {
        "id": "FhkhE84oVZ4a"
      }
    },
    {
      "cell_type": "code",
      "source": [
        "# Reformatando os dados para testes com RNN\n",
        "x_train = np.reshape(x_train,[-1, 28, 28])\n",
        "x_test = np.reshape(x_test,[-1, 28, 28])"
      ],
      "metadata": {
        "id": "P9iK5YdspGEV"
      },
      "execution_count": null,
      "outputs": []
    },
    {
      "cell_type": "code",
      "source": [
        "# Construindo o modelo\n",
        "model_rnn = models.Sequential([\n",
        "  layers.SimpleRNN(256, input_shape=(28,28)),\n",
        "  layers.Dense(10, activation='softmax'),\n",
        "])\n"
      ],
      "metadata": {
        "id": "miwqFjOTVWSo"
      },
      "execution_count": null,
      "outputs": []
    },
    {
      "cell_type": "code",
      "source": [
        "# Compilando o modelo\n",
        "model_rnn.compile(\n",
        "  'sgd',\n",
        "  loss='categorical_crossentropy',\n",
        "  metrics=['accuracy'],\n",
        ")"
      ],
      "metadata": {
        "id": "_3HDfMZwcN1h"
      },
      "execution_count": null,
      "outputs": []
    },
    {
      "cell_type": "code",
      "source": [
        "epochs=7\n",
        "model_rnn.fit(\n",
        "  x_train,\n",
        "  to_categorical(y_train),\n",
        "  epochs=epochs,\n",
        "  batch_size=128,\n",
        "  validation_data=(x_test, to_categorical(y_test))\n",
        ")"
      ],
      "metadata": {
        "colab": {
          "base_uri": "https://localhost:8080/"
        },
        "id": "H_chORaYgPmo",
        "outputId": "72cc7d67-45f8-448b-8374-ea5c2a8264d2"
      },
      "execution_count": null,
      "outputs": [
        {
          "output_type": "stream",
          "name": "stdout",
          "text": [
            "Epoch 1/7\n",
            "469/469 [==============================] - 33s 68ms/step - loss: 0.6776 - accuracy: 0.8150 - val_loss: 0.3142 - val_accuracy: 0.9132\n",
            "Epoch 2/7\n",
            "469/469 [==============================] - 31s 67ms/step - loss: 0.2705 - accuracy: 0.9237 - val_loss: 0.2269 - val_accuracy: 0.9346\n",
            "Epoch 3/7\n",
            "469/469 [==============================] - 31s 67ms/step - loss: 0.1998 - accuracy: 0.9421 - val_loss: 0.1662 - val_accuracy: 0.9535\n",
            "Epoch 4/7\n",
            "469/469 [==============================] - 31s 67ms/step - loss: 0.1634 - accuracy: 0.9535 - val_loss: 0.1964 - val_accuracy: 0.9375\n",
            "Epoch 5/7\n",
            "469/469 [==============================] - 31s 67ms/step - loss: 0.1412 - accuracy: 0.9585 - val_loss: 0.1324 - val_accuracy: 0.9614\n",
            "Epoch 6/7\n",
            "469/469 [==============================] - 32s 69ms/step - loss: 0.1273 - accuracy: 0.9623 - val_loss: 0.1171 - val_accuracy: 0.9641\n",
            "Epoch 7/7\n",
            "469/469 [==============================] - 31s 67ms/step - loss: 0.1127 - accuracy: 0.9671 - val_loss: 0.1120 - val_accuracy: 0.9655\n"
          ]
        },
        {
          "output_type": "execute_result",
          "data": {
            "text/plain": [
              "<keras.callbacks.History at 0x7f5f9dfdddd0>"
            ]
          },
          "metadata": {},
          "execution_count": 46
        }
      ]
    },
    {
      "cell_type": "code",
      "source": [
        "# Predição das cinco primeiras imagens de teste\n",
        "predictions = model_rnn.predict(x_test[:5])\n",
        "\n",
        "# Imprime as predições do nosso modelo\n",
        "print(np.argmax(predictions, axis=1))\n",
        "\n",
        "# Imprime os verdadeiros valores das labels\n",
        "print(y_test[:5]) # [7, 2, 1, 0, 4]"
      ],
      "metadata": {
        "colab": {
          "base_uri": "https://localhost:8080/"
        },
        "id": "-ZhsXl8WmRzH",
        "outputId": "07b7e546-9e2a-49eb-e054-45d5b07482c7"
      },
      "execution_count": null,
      "outputs": [
        {
          "output_type": "stream",
          "name": "stdout",
          "text": [
            "[7 2 1 0 4]\n",
            "[7 2 1 0 4]\n"
          ]
        }
      ]
    }
  ]
}