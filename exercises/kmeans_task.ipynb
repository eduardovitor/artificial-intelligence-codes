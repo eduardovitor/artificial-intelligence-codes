{
  "nbformat": 4,
  "nbformat_minor": 0,
  "metadata": {
    "colab": {
      "name": "kmeans-exercicio.ipynb",
      "provenance": []
    },
    "kernelspec": {
      "name": "python3",
      "display_name": "Python 3"
    },
    "language_info": {
      "name": "python"
    }
  },
  "cells": [
    {
      "cell_type": "markdown",
      "source": [
        "# Contexto\n",
        "A rede de lojas Bruno tem 19 lojas em algumas das principais cidades do país. A empresa pensa em construir 3 centros logísticos para abastecer as lojas. Mas, qual seria a posição ótima para cada um desses três hubs, considerando apenas a posição (coordenadas geográficas) das lojas?"
      ],
      "metadata": {
        "id": "Nn5rRJx8ACc5"
      }
    },
    {
      "cell_type": "markdown",
      "source": [
        "Abaixo, vamos plotar o gráfico a representação em coordenadas de cada uma das 19 cidades onde a rede possui filiais:"
      ],
      "metadata": {
        "id": "k2nOI51PAJcL"
      }
    },
    {
      "cell_type": "code",
      "execution_count": 10,
      "metadata": {
        "colab": {
          "base_uri": "https://localhost:8080/",
          "height": 269
        },
        "id": "lTA00qmn_-oz",
        "outputId": "cc6770c9-1050-469f-fbef-72b01067c72d"
      },
      "outputs": [
        {
          "output_type": "display_data",
          "data": {
            "text/plain": [
              "<Figure size 432x288 with 1 Axes>"
            ],
            "image/png": "[encoded data removed]"
          },
          "metadata": {
            "needs_background": "light"
          }
        }
      ],
      "source": [
        "from sklearn.cluster import KMeans\n",
        "import matplotlib.pyplot as plt\n",
        "import numpy as np\n",
        "\n",
        "dataset = np.array(\n",
        "  #matriz com as coordenadas geográficas de cada loja\n",
        "  [[-25, -46], #são paulo\n",
        "  [-22, -43], #rio de janeiro\n",
        "  [-25, -49], #curitiba\n",
        "  [-30, -51], #porto alegre\n",
        "  [-19, -43], #belo horizonte\n",
        "  [-15, -47], #brasilia\n",
        "  [-12, -38], #salvador\n",
        "  [-8, -34], #recife\n",
        "  [-16, -49], #goiania\n",
        "  [-3, -60], #manaus\n",
        "  [-22, -47], #campinas\n",
        "  [-3, -38], #fortaleza\n",
        "  [-21, -47], #ribeirão preto\n",
        "  [-23, -51], #maringa\n",
        "  [-27, -48], #florianópolis\n",
        "  [-21, -43], #juiz de fora\n",
        "  [-1, -48], #belém\n",
        "  [-10, -67], #rio branco\n",
        "  [-8, -63]]#porto velho\n",
        ")\n",
        "plt.scatter(dataset[:,1], dataset[:,0]) #posicionamento dos eixos x e y\n",
        "plt.xlim(-75, -30) #range do eixo x\n",
        "plt.ylim(-50, 10) #range do eixo y\n",
        "plt.grid() #função que desenha a grade no nosso gráfico"
      ]
    },
    {
      "cell_type": "markdown",
      "source": [
        "O ponto mais ao sul no gráfico representa Porto Alegre, o ponto mais à Oeste representa Rio Branco, o ponto mais à leste representa Recife e o ponto mais ao norte representa Belém."
      ],
      "metadata": {
        "id": "hjnHi9t5AR97"
      }
    },
    {
      "cell_type": "code",
      "source": [
        "dataset[:,1] # pegando todos os valores de y das coordenadas, a vírgula é usada para extrair uma coluna de um array 2D\n",
        "dataset[:,0] # pegando todos os valores de x das coordenadas"
      ],
      "metadata": {
        "colab": {
          "base_uri": "https://localhost:8080/"
        },
        "id": "o6jG7C2bPhxM",
        "outputId": "e3a089ea-08fa-497a-a9f3-ccb5d56052c0"
      },
      "execution_count": 11,
      "outputs": [
        {
          "output_type": "execute_result",
          "data": {
            "text/plain": [
              "array([-25, -22, -25, -30, -19, -15, -12,  -8, -16,  -3, -22,  -3, -21,\n",
              "       -23, -27, -21,  -1, -10,  -8])"
            ]
          },
          "metadata": {},
          "execution_count": 11
        }
      ]
    },
    {
      "cell_type": "markdown",
      "source": [
        "Vamos utilizar o algoritmo `KMeans`, do pacote `Scikit-Learn` para agrupar (clusterisar) as nossas filiais em 3 grupos. Cada grupo será servido por um centro logístico, que será representado por um centróide (os pontos em vermelho no gráfico)."
      ],
      "metadata": {
        "id": "3YIhqOtIAVpi"
      }
    },
    {
      "cell_type": "code",
      "source": [
        "kmeans = KMeans(n_clusters = 3, #numero de clusters\n",
        "  init = 'k-means++', n_init = 10, #algoritmo que define a posição dos clusters de maneira mais assertiva\n",
        "  max_iter = 300) #numero máximo de iterações\n",
        "pred_y = kmeans.fit_predict(dataset)\n",
        "plt.scatter(dataset[:,1], dataset[:,0], c = pred_y) #posicionamento dos eixos x e y, --- não entendo essa linha de código completamente\n",
        "plt.xlim(-75, -30) #range do eixo x\n",
        "plt.ylim(-50, 10) #range do eixo y\n",
        "plt.grid() #função que desenha a grade no nosso gráfico\n",
        "#plt.scatter(kmeans.cluster_centers_[:,1],kmeans.cluster_centers_[:,0], s = 70, c = 'red') #posição de cada centroide no gráfico --- não entendo essa linha de código completamente\n",
        "plt.show()"
      ],
      "metadata": {
        "colab": {
          "base_uri": "https://localhost:8080/",
          "height": 269
        },
        "id": "DgjEQGtbAaox",
        "outputId": "65d7a842-b47a-4f26-8957-603e57fdc59a"
      },
      "execution_count": 12,
      "outputs": [
        {
          "output_type": "display_data",
          "data": {
            "text/plain": [
              "<Figure size 432x288 with 1 Axes>"
            ],
            "image/png": "[encoded data removed]"
          },
          "metadata": {
            "needs_background": "light"
          }
        }
      ]
    },
    {
      "cell_type": "markdown",
      "source": [
        "Nossa clusterização apontou três posições para os nossos centros logísticos. Vamos ver onde, aproximadamende, eles ficariam?"
      ],
      "metadata": {
        "id": "I31Fto_hAfnk"
      }
    },
    {
      "cell_type": "markdown",
      "source": [
        "\n",
        "\n",
        "*   [-7, -63.33333333] — Humaitá/AM\n",
        "*   [-6, -39.5] — Acopiara/CE\n",
        "*   [-22.16666667, -47] — Mogi Guaçu/SP"
      ],
      "metadata": {
        "id": "hf0MNBjjAiPU"
      }
    },
    {
      "cell_type": "markdown",
      "source": [
        "### Melhorando um pouco o exemplo\n",
        "\n",
        "Neste segundo cenário, vamos considerar que em algumas das maiores cidades nós temos mais que uma loja.\n",
        "\n",
        "Só em São Paulo, agora temos 21 lojas. No total, nossa rede teria 86 lojas."
      ],
      "metadata": {
        "id": "tkjxZfuaAtOA"
      }
    },
    {
      "cell_type": "code",
      "source": [
        "novo_dataset = np.array(\n",
        "#matriz com as coordenadas geográficas de cada loja\n",
        "[\n",
        "[-25, -46], #são paulo\n",
        "[-25, -46], #são paulo\n",
        "[-25, -46], #são paulo\n",
        "[-25, -46], #são paulo\n",
        "[-25, -46], #são paulo\n",
        "[-25, -46], #são paulo\n",
        "[-25, -46], #são paulo\n",
        "[-25, -46], #são paulo\n",
        "[-25, -46], #são paulo\n",
        "[-25, -46], #são paulo\n",
        "[-25, -46], #são paulo\n",
        "[-25, -46], #são paulo\n",
        "[-25, -46], #são paulo\n",
        "[-25, -46], #são paulo\n",
        "[-25, -46], #são paulo\n",
        "[-25, -46], #são paulo\n",
        "[-25, -46], #são paulo\n",
        "[-25, -46], #são paulo\n",
        "[-25, -46], #são paulo\n",
        "[-25, -46], #são paulo\n",
        "[-25, -46], #são paulo\n",
        "[-22, -43], #rio de janeiro\n",
        "[-22, -43], #rio de janeiro\n",
        "[-22, -43], #rio de janeiro\n",
        "[-22, -43], #rio de janeiro\n",
        "[-22, -43], #rio de janeiro\n",
        "[-22, -43], #rio de janeiro\n",
        "[-22, -43], #rio de janeiro\n",
        "[-22, -43], #rio de janeiro\n",
        "[-22, -43], #rio de janeiro\n",
        "[-22, -43], #rio de janeiro\n",
        "[-22, -43], #rio de janeiro\n",
        "[-22, -43], #rio de janeiro\n",
        "[-25, -49], #curitiba\n",
        "[-25, -49], #curitiba\n",
        "[-25, -49], #curitiba\n",
        "[-25, -49], #curitiba\n",
        "[-25, -49], #curitiba\n",
        "[-25, -49], #curitiba\n",
        "[-30, -51], #porto alegre\n",
        "[-30, -51], #porto alegre\n",
        "[-30, -51], #porto alegre\n",
        "[-19, -43], #belo horizonte\n",
        "[-19, -43], #belo horizonte\n",
        "[-19, -43], #belo horizonte\n",
        "[-19, -43], #belo horizonte\n",
        "[-19, -43], #belo horizonte\n",
        "[-19, -43], #belo horizonte\n",
        "[-19, -43], #belo horizonte\n",
        "[-19, -43], #belo horizonte\n",
        "[-15, -47], #brasilia\n",
        "[-15, -47], #brasilia\n",
        "[-15, -47], #brasilia\n",
        "[-15, -47], #brasilia\n",
        "[-15, -47], #brasilia\n",
        "[-15, -47], #brasilia\n",
        "[-12, -38], #salvador\n",
        "[-12, -38], #salvador\n",
        "[-12, -38], #salvador\n",
        "[-8, -34], #recife\n",
        "[-8, -34], #recife\n",
        "[-8, -34], #recife\n",
        "[-16, -49], #goiania\n",
        "[-16, -49], #goiania\n",
        "[-3, -60], #manaus\n",
        "[-3, -60], #manaus\n",
        "[-3, -60], #manaus\n",
        "[-3, -60], #manaus\n",
        "[-22, -47], #campinas\n",
        "[-22, -47], #campinas\n",
        "[-3, -38], #fortaleza\n",
        "[-3, -38], #fortaleza\n",
        "[-3, -38], #fortaleza\n",
        "[-3, -38], #fortaleza\n",
        "[-3, -38], #fortaleza\n",
        "[-3, -38], #fortaleza\n",
        "[-21, -47], #ribeirão preto\n",
        "[-23, -51], #maringa\n",
        "[-27, -48], #florianópolis\n",
        "[-27, -48], #florianópolis\n",
        "[-21, -43], #juiz de fora\n",
        "[-1, -48], #belém\n",
        "[-1, -48], #belém\n",
        "[-1, -48], #belém\n",
        "[-1, -48], #belém\n",
        "[-10, -67], #rio branco\n",
        "[-8, -63] #porto velho\n",
        "]\n",
        ")\n",
        "plt.scatter(novo_dataset[:,1], novo_dataset[:,0]) #posicionamento dos eixos x e y\n",
        "plt.xlim(-75, -30) #range do eixo x\n",
        "plt.ylim(-50, 10) #range do eixo y\n",
        "plt.grid() #função que desenha a grade no nosso gráfico"
      ],
      "metadata": {
        "colab": {
          "base_uri": "https://localhost:8080/",
          "height": 269
        },
        "id": "T4TYvfpfA18e",
        "outputId": "88bc5270-e68f-45ab-ce31-3b2cfb203b13"
      },
      "execution_count": 13,
      "outputs": [
        {
          "output_type": "display_data",
          "data": {
            "text/plain": [
              "<Figure size 432x288 with 1 Axes>"
            ],
            "image/png": "[encoded data removed]"
          },
          "metadata": {
            "needs_background": "light"
          }
        }
      ]
    },
    {
      "cell_type": "code",
      "source": [
        "kmeans = KMeans(n_clusters = 3, #numero de clusters\n",
        "init = 'k-means++', n_init = 10, #algoritmo que define a posição dos clusters de maneira mais assertiva\n",
        "max_iter = 300) #numero máximo de iterações\n",
        "pred_y = kmeans.fit_predict(novo_dataset)\n",
        "plt.scatter(novo_dataset[:,1], novo_dataset[:,0], c = pred_y) #posicionamento dos eixos x e y\n",
        "plt.xlim(-75, -30) #range do eixo x\n",
        "plt.ylim(-50, 10) #range do eixo y\n",
        "plt.grid() #função que desenha a grade no nosso gráfico\n",
        "#plt.scatter(kmeans.cluster_centers_[:,1],kmeans.cluster_centers_[:,0], s = 70, c = 'red') #posição de cada centroide no gráfico\n",
        "plt.show()"
      ],
      "metadata": {
        "colab": {
          "base_uri": "https://localhost:8080/",
          "height": 269
        },
        "id": "97NHDk8DCax5",
        "outputId": "66fd7912-aad9-439f-cd4b-c58eba870935"
      },
      "execution_count": 35,
      "outputs": [
        {
          "output_type": "display_data",
          "data": {
            "text/plain": [
              "<Figure size 432x288 with 1 Axes>"
            ],
            "image/png": "[encoded data removed]"
          },
          "metadata": {
            "needs_background": "light"
          }
        }
      ]
    },
    {
      "cell_type": "code",
      "source": [
        "\n",
        "\n",
        "# Classe \"0\" região Sudeste ao centro\n",
        "# Classe \"1\" região Nordeste à direita\n",
        "# Classe \"2\" região Norte (Amazonas, Belém, etc)] à esquerda\n",
        "\n",
        "i=0\n",
        "count_class1=0\n",
        "count_class2=0\n",
        "count_class3=0\n",
        "for pred in pred_y:\n",
        "  if pred==0:\n",
        "    count_class1+=1\n",
        "  elif pred==1:\n",
        "    count_class2+=1\n",
        "  elif pred==2:\n",
        "    count_class3+=1\n",
        "  i+=1\n",
        "\n",
        "print('A quantidade de elementos da classe 0 foi {}'.format(count_class1))\n",
        "print('A quantidade de elementos da classe 1 foi {}'.format(count_class2))\n",
        "print('A quantidade de elementos da classe 2 foi {}'.format(count_class3))\n",
        "print('O tamanho é {}'.format(i))\n"
      ],
      "metadata": {
        "colab": {
          "base_uri": "https://localhost:8080/"
        },
        "id": "T0Mptez5TsQI",
        "outputId": "c9b1af01-3f73-474a-b050-b65bb380e620"
      },
      "execution_count": 36,
      "outputs": [
        {
          "output_type": "stream",
          "name": "stdout",
          "text": [
            "A quantidade de elementos da classe 0 foi 65\n",
            "A quantidade de elementos da classe 1 foi 16\n",
            "A quantidade de elementos da classe 2 foi 6\n",
            "O tamanho é 87\n"
          ]
        }
      ]
    },
    {
      "cell_type": "code",
      "source": [
        "# Calculando a distância média dos valores dos clusters para seus centróides\n",
        "\n",
        "def calculate_average_distances(kmeans_model,orig_dataset):\n",
        "  kmeans_model.cluster_centers_[0] # Centróide Sudeste\n",
        "  kmeans_model.cluster_centers_[1] # Centróide Nordeste\n",
        "  kmeans_model.cluster_centers_[2] # Centróide Norte\n",
        "\n",
        "  len_dataset=len(orig_dataset)\n",
        "\n",
        "  i=0\n",
        "  soma_dist_sudeste=0.0\n",
        "  soma_dist_nordeste=0.0\n",
        "  soma_dist_norte=0.0\n",
        "\n",
        "  # Calculando a soma das distâncias dos valores para os centróides das classes\n",
        "  for coordenada in orig_dataset:\n",
        "      if pred_y[i]==0: # Caso Sudeste\n",
        "        dist = np.linalg.norm(kmeans_model.cluster_centers_[0] - coordenada)\n",
        "        soma_dist_sudeste+=dist\n",
        "      elif pred_y[i]==1: # Caso Nordeste\n",
        "        dist = np.linalg.norm(kmeans_model.cluster_centers_[1] - coordenada)\n",
        "        soma_dist_nordeste+=dist\n",
        "      elif pred_y[i]==2: # Caso Norte\n",
        "        dist = np.linalg.norm(kmeans_model.cluster_centers_[2] - coordenada)\n",
        "        soma_dist_norte+=dist\n",
        "      i+=1\n",
        "\n",
        "  # Calculando a média das distâncias de cada classe\n",
        "  media_sudeste=soma_dist_sudeste/len_dataset\n",
        "  media_nordeste=soma_dist_nordeste/len_dataset\n",
        "  media_norte=soma_dist_norte/len_dataset\n",
        "\n",
        "  return media_sudeste, media_nordeste, media_norte\n"
      ],
      "metadata": {
        "id": "yzJZcmblV6hq"
      },
      "execution_count": 37,
      "outputs": []
    },
    {
      "cell_type": "code",
      "source": [
        "# Checando a média das distâncias para o número de iterações de 300\n",
        "dist_sudeste,dist_nordeste,dist_norte = calculate_average_distances(kmeans, novo_dataset)\n",
        "print(\"A distância média para o centróide sudeste foi {}\".format(dist_sudeste))\n",
        "print(\"A distância média para o centróide nordeste foi {}\".format(dist_nordeste))\n",
        "print(\"A distância média para o centróide norte foi {}\".format(dist_norte))"
      ],
      "metadata": {
        "colab": {
          "base_uri": "https://localhost:8080/"
        },
        "id": "dqZCv7IUDxgG",
        "outputId": "d031b0ce-8aa0-4f31-cf78-3ff551af54ea"
      },
      "execution_count": 62,
      "outputs": [
        {
          "output_type": "stream",
          "name": "stdout",
          "text": [
            "A distância média para o centróide sudeste foi 2.9569265139008896\n",
            "A distância média para o centróide nordeste foi 1.080240689992359\n",
            "A distância média para o centróide norte foi 0.24146194906085833\n"
          ]
        }
      ]
    },
    {
      "cell_type": "code",
      "source": [
        "\n",
        "# Checando até que número de iterações pode-se diminuir de 300 antes que as distâncias aumentem\n",
        "dist_sudeste_min,dist_nordeste_min,dist_norte_min = calculate_average_distances(kmeans, novo_dataset)\n",
        "n = 299\n",
        "num_iter_ideal = 0\n",
        "loop_control = True\n",
        "while(loop_control):\n",
        "  kmeans_loop = KMeans(n_clusters = 3, init = 'k-means++', n_init = 10, max_iter = n)\n",
        "  kmeans_loop.fit_predict(novo_dataset)\n",
        "  dist_sudeste,dist_nordeste,dist_norte = calculate_average_distances(kmeans_loop,novo_dataset)\n",
        "  if dist_sudeste > dist_sudeste_min or dist_nordeste > dist_nordeste_min or dist_norte > dist_norte_min:\n",
        "    num_iter_ideal = n + 1\n",
        "    print(\"Dist sudeste original {} vs Dist sudeste maior {}\".format(dist_sudeste_min,dist_sudeste))\n",
        "    print(\"Dist nordeste original {} vs Dist nordeste maior {}\".format(dist_nordeste_min,dist_nordeste))\n",
        "    print(\"Dist norte original {} vs Dist norte maior {}\".format(dist_norte_min,dist_norte))\n",
        "    loop_control = False\n",
        "  n-=1\n",
        "\n",
        "# O número de iterações variou entre 297, 298, 299 e 300 como número ideal em 10 execuções\n",
        "# Isso quer dizer que números abaixo de 297, muito provavelmente farão a distância média aumentar\n",
        "print(num_iter_ideal)"
      ],
      "metadata": {
        "id": "mVzmrpWC8FYn",
        "colab": {
          "base_uri": "https://localhost:8080/"
        },
        "outputId": "381adc11-11dc-4f50-b992-454075b8bb71"
      },
      "execution_count": 95,
      "outputs": [
        {
          "output_type": "stream",
          "name": "stdout",
          "text": [
            "Dist sudeste original 2.9569265139008896 vs Dist sudeste maior 2.9569265139008896\n",
            "Dist nordeste original 1.080240689992359 vs Dist nordeste maior 4.10337035043667\n",
            "Dist norte original 0.24146194906085833 vs Dist norte maior 1.5236147099771173\n",
            "299\n"
          ]
        }
      ]
    },
    {
      "cell_type": "code",
      "source": [
        "# Respondendo o tópico três\n",
        "\n",
        "# Minhas sugestões de colunas: número de habitantes, PIB, número de terrenos disponíveis"
      ],
      "metadata": {
        "colab": {
          "base_uri": "https://localhost:8080/"
        },
        "id": "jpUenDC_B91t",
        "outputId": "59bbc4d2-dc82-43e3-a8cb-a3148c38b8de"
      },
      "execution_count": 52,
      "outputs": [
        {
          "output_type": "stream",
          "name": "stdout",
          "text": [
            "13.9254169477897 3.5534575732767113 0.24146194906085833\n"
          ]
        }
      ]
    },
    {
      "cell_type": "markdown",
      "source": [
        "Agora, nossos centros logísticos ficariam nos seguintes locais:\n",
        "\n",
        "*    [-5, -61.66666667] — Beruri/AM\n",
        "*    [-5.125, -39.75] — Boa Viagem/CE\n",
        "*    [-22.55384615, -45.90769231] — Consolação/MG"
      ],
      "metadata": {
        "id": "HXEuAW-OA6jp"
      }
    },
    {
      "cell_type": "markdown",
      "source": [
        "### Dá pra ficar ainda melhor\n",
        "Aqui ainda ficou faltando tratar algumas situações, que pretendo abordar nos próximos posts, com por exemplo:\n",
        "\n",
        "* Como escolher o número de clusters (método elbow)\n",
        "* Como calcular a distância entre os dados: distância euclidiana\n",
        "* Qual é a condição de parada ideal (nada de loop infinito)\n",
        "* Também é válido dizer que fizemos uma análise de dados utilizando apenas dois tipos de dados: localização e distância entre lojas. Isso é claramente insuficiente para uma análise “de verdade”. Certamente que Beruri e Humaitá não são polos logisticos e temos motivos claros para isso."
      ],
      "metadata": {
        "id": "iXRT1oUIBXzk"
      }
    },
    {
      "cell_type": "markdown",
      "source": [
        "### TO-DO:\n",
        "* Qual a menor distância média identificada pelos clusters (e seus centróides) encontrados?\n",
        "* As 300 iterações podem ser diminuídas até quanto, sem que aumente a distância identificada nos clusters?\n",
        "* Que outras colunas poderiam ser adicionadas ao dataset para melhorar o resultado da localidade dos centros logísticos?"
      ],
      "metadata": {
        "id": "0gB26Ub0UwMu"
      }
    }
  ]
}
